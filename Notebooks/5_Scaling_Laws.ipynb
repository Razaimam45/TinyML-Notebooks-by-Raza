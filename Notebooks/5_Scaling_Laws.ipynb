{
 "cells": [
  {
   "cell_type": "markdown",
   "metadata": {},
   "source": [
    "## LAB 5: LLM Scaling Laws"
   ]
  },
  {
   "cell_type": "markdown",
   "metadata": {},
   "source": [
    "Scaling Laws in Large Language Models (LLMs) describe how changes in model size, data quantity, and computational resources affect model performance. Understanding these relationships is crucial for designing efficient and effective models."
   ]
  },
  {
   "cell_type": "markdown",
   "metadata": {},
   "source": [
    "In this lab, we'll explore:\n",
    "\n",
    "* How increasing model size impacts performance.\n",
    "* The trade-offs between computational cost (in our case \"Time\") and accuracy.\n",
    "\n",
    "To make these exercises practical, we'll use pre-trained transformer models from the Hugging Face library and fine-tune them on a text classification task."
   ]
  },
  {
   "cell_type": "code",
   "execution_count": null,
   "metadata": {},
   "outputs": [],
   "source": []
  },
  {
   "cell_type": "code",
   "execution_count": null,
   "metadata": {},
   "outputs": [],
   "source": [
    "# !pip install transformers==4.30.0"
   ]
  },
  {
   "cell_type": "code",
   "execution_count": null,
   "metadata": {},
   "outputs": [],
   "source": [
    "import torch\n",
    "from transformers import AutoTokenizer, AutoModelForSequenceClassification, Trainer, TrainingArguments\n",
    "from datasets import load_dataset, load_metric\n",
    "import numpy as np\n",
    "import pandas as pd\n",
    "import matplotlib.pyplot as plt\n",
    "%matplotlib inline\n",
    "import time"
   ]
  },
  {
   "cell_type": "markdown",
   "metadata": {},
   "source": [
    "In this exercise, we'll fine-tune transformer models of varying sizes on the AG News dataset and observe how the model size affects performance."
   ]
  },
  {
   "cell_type": "code",
   "execution_count": null,
   "metadata": {},
   "outputs": [],
   "source": [
    "dataset = load_dataset('ag_news')\n",
    "metric = load_metric('accuracy')"
   ]
  },
  {
   "cell_type": "markdown",
   "metadata": {},
   "source": [
    "We'll select pre-trained models of varying sizes from Hugging Face."
   ]
  },
  {
   "cell_type": "code",
   "execution_count": 3,
   "metadata": {},
   "outputs": [],
   "source": [
    "model_names = [\n",
    "    'google/bert_uncased_L-2_H-128_A-2',   \n",
    "    'google/bert_uncased_L-4_H-256_A-4',   \n",
    "    'google/bert_uncased_L-6_H-512_A-8',   \n",
    "    # You can also add the following models to compare the performance\n",
    "    # 'bert-base-uncased',                   \n",
    "    # 'bert-large-uncased',                  \n",
    "]"
   ]
  },
  {
   "cell_type": "code",
   "execution_count": 4,
   "metadata": {},
   "outputs": [],
   "source": [
    "def preprocess_function(examples, tokenizer):\n",
    "    return tokenizer(examples['text'], truncation=True, padding='max_length', max_length=128)"
   ]
  },
  {
   "cell_type": "code",
   "execution_count": 5,
   "metadata": {},
   "outputs": [
    {
     "name": "stdout",
     "output_type": "stream",
     "text": [
      "\n",
      "Processing model: google/bert_uncased_L-2_H-128_A-2\n"
     ]
    },
    {
     "name": "stderr",
     "output_type": "stream",
     "text": [
      "config.json: 100%|██████████| 382/382 [00:00<00:00, 831kB/s]\n",
      "vocab.txt: 100%|██████████| 232k/232k [00:00<00:00, 8.02MB/s]\n",
      "Map: 100%|██████████| 120000/120000 [00:10<00:00, 11587.00 examples/s]\n",
      "Map: 100%|██████████| 7600/7600 [00:00<00:00, 12470.92 examples/s]\n",
      "model.safetensors: 100%|██████████| 17.7M/17.7M [00:00<00:00, 134MB/s]\n",
      "Some weights of BertForSequenceClassification were not initialized from the model checkpoint at google/bert_uncased_L-2_H-128_A-2 and are newly initialized: ['classifier.bias', 'classifier.weight']\n",
      "You should probably TRAIN this model on a down-stream task to be able to use it for predictions and inference.\n",
      "Failed to detect the name of this notebook, you can set it manually with the WANDB_NOTEBOOK_NAME environment variable to enable code saving.\n",
      "\u001b[34m\u001b[1mwandb\u001b[0m: Currently logged in as: \u001b[33mrazaimam45\u001b[0m (\u001b[33mr45\u001b[0m). Use \u001b[1m`wandb login --relogin`\u001b[0m to force relogin\n"
     ]
    },
    {
     "data": {
      "text/html": [
       "wandb version 0.18.3 is available!  To upgrade, please run:\n",
       " $ pip install wandb --upgrade"
      ],
      "text/plain": [
       "<IPython.core.display.HTML object>"
      ]
     },
     "metadata": {},
     "output_type": "display_data"
    },
    {
     "data": {
      "text/html": [
       "Tracking run with wandb version 0.16.0"
      ],
      "text/plain": [
       "<IPython.core.display.HTML object>"
      ]
     },
     "metadata": {},
     "output_type": "display_data"
    },
    {
     "data": {
      "text/html": [
       "Run data is saved locally in <code>/home/raza.imam/Documents/CV801B/Lab7/wandb/run-20241002_191024-24sqhq9s</code>"
      ],
      "text/plain": [
       "<IPython.core.display.HTML object>"
      ]
     },
     "metadata": {},
     "output_type": "display_data"
    },
    {
     "data": {
      "text/html": [
       "Syncing run <strong><a href='https://wandb.ai/r45/huggingface/runs/24sqhq9s' target=\"_blank\">sandy-frost-2</a></strong> to <a href='https://wandb.ai/r45/huggingface' target=\"_blank\">Weights & Biases</a> (<a href='https://wandb.me/run' target=\"_blank\">docs</a>)<br/>"
      ],
      "text/plain": [
       "<IPython.core.display.HTML object>"
      ]
     },
     "metadata": {},
     "output_type": "display_data"
    },
    {
     "data": {
      "text/html": [
       " View project at <a href='https://wandb.ai/r45/huggingface' target=\"_blank\">https://wandb.ai/r45/huggingface</a>"
      ],
      "text/plain": [
       "<IPython.core.display.HTML object>"
      ]
     },
     "metadata": {},
     "output_type": "display_data"
    },
    {
     "data": {
      "text/html": [
       " View run at <a href='https://wandb.ai/r45/huggingface/runs/24sqhq9s' target=\"_blank\">https://wandb.ai/r45/huggingface/runs/24sqhq9s</a>"
      ],
      "text/plain": [
       "<IPython.core.display.HTML object>"
      ]
     },
     "metadata": {},
     "output_type": "display_data"
    },
    {
     "name": "stderr",
     "output_type": "stream",
     "text": [
      "/home/raza.imam/.conda/envs/MMAttack/lib/python3.11/site-packages/torch/nn/parallel/_functions.py:68: UserWarning: Was asked to gather along dimension 0, but all input tensors were scalars; will instead unsqueeze and return a vector.\n",
      "  warnings.warn('Was asked to gather along dimension 0, but all '\n"
     ]
    },
    {
     "data": {
      "text/html": [
       "\n",
       "    <div>\n",
       "      \n",
       "      <progress value='938' max='938' style='width:300px; height:20px; vertical-align: middle;'></progress>\n",
       "      [938/938 01:51, Epoch 1/1]\n",
       "    </div>\n",
       "    <table border=\"1\" class=\"dataframe\">\n",
       "  <thead>\n",
       " <tr style=\"text-align: left;\">\n",
       "      <th>Epoch</th>\n",
       "      <th>Training Loss</th>\n",
       "      <th>Validation Loss</th>\n",
       "      <th>Accuracy</th>\n",
       "    </tr>\n",
       "  </thead>\n",
       "  <tbody>\n",
       "    <tr>\n",
       "      <td>1</td>\n",
       "      <td>No log</td>\n",
       "      <td>0.346458</td>\n",
       "      <td>0.897763</td>\n",
       "    </tr>\n",
       "  </tbody>\n",
       "</table><p>"
      ],
      "text/plain": [
       "<IPython.core.display.HTML object>"
      ]
     },
     "metadata": {},
     "output_type": "display_data"
    },
    {
     "name": "stderr",
     "output_type": "stream",
     "text": [
      "/home/raza.imam/.conda/envs/MMAttack/lib/python3.11/site-packages/torch/nn/parallel/_functions.py:68: UserWarning: Was asked to gather along dimension 0, but all input tensors were scalars; will instead unsqueeze and return a vector.\n",
      "  warnings.warn('Was asked to gather along dimension 0, but all '\n"
     ]
    },
    {
     "data": {
      "text/html": [
       "\n",
       "    <div>\n",
       "      \n",
       "      <progress value='15' max='15' style='width:300px; height:20px; vertical-align: middle;'></progress>\n",
       "      [15/15 00:00]\n",
       "    </div>\n",
       "    "
      ],
      "text/plain": [
       "<IPython.core.display.HTML object>"
      ]
     },
     "metadata": {},
     "output_type": "display_data"
    },
    {
     "name": "stdout",
     "output_type": "stream",
     "text": [
      "Model Size: 4386436, Training Time: 129.34s, Accuracy: 0.8978\n",
      "\n",
      "Processing model: google/bert_uncased_L-4_H-256_A-4\n"
     ]
    },
    {
     "name": "stderr",
     "output_type": "stream",
     "text": [
      "config.json: 100%|██████████| 383/383 [00:00<00:00, 508kB/s]\n",
      "vocab.txt: 100%|██████████| 232k/232k [00:00<00:00, 34.0MB/s]\n",
      "Map: 100%|██████████| 120000/120000 [00:10<00:00, 11051.45 examples/s]\n",
      "Map: 100%|██████████| 7600/7600 [00:00<00:00, 12241.91 examples/s]\n",
      "pytorch_model.bin: 100%|██████████| 45.1M/45.1M [00:00<00:00, 150MB/s]\n",
      "Some weights of BertForSequenceClassification were not initialized from the model checkpoint at google/bert_uncased_L-4_H-256_A-4 and are newly initialized: ['classifier.bias', 'classifier.weight']\n",
      "You should probably TRAIN this model on a down-stream task to be able to use it for predictions and inference.\n",
      "/home/raza.imam/.conda/envs/MMAttack/lib/python3.11/site-packages/torch/nn/parallel/_functions.py:68: UserWarning: Was asked to gather along dimension 0, but all input tensors were scalars; will instead unsqueeze and return a vector.\n",
      "  warnings.warn('Was asked to gather along dimension 0, but all '\n"
     ]
    },
    {
     "data": {
      "text/html": [
       "\n",
       "    <div>\n",
       "      \n",
       "      <progress value='938' max='938' style='width:300px; height:20px; vertical-align: middle;'></progress>\n",
       "      [938/938 02:43, Epoch 1/1]\n",
       "    </div>\n",
       "    <table border=\"1\" class=\"dataframe\">\n",
       "  <thead>\n",
       " <tr style=\"text-align: left;\">\n",
       "      <th>Epoch</th>\n",
       "      <th>Training Loss</th>\n",
       "      <th>Validation Loss</th>\n",
       "      <th>Accuracy</th>\n",
       "    </tr>\n",
       "  </thead>\n",
       "  <tbody>\n",
       "    <tr>\n",
       "      <td>1</td>\n",
       "      <td>No log</td>\n",
       "      <td>0.252283</td>\n",
       "      <td>0.915395</td>\n",
       "    </tr>\n",
       "  </tbody>\n",
       "</table><p>"
      ],
      "text/plain": [
       "<IPython.core.display.HTML object>"
      ]
     },
     "metadata": {},
     "output_type": "display_data"
    },
    {
     "name": "stderr",
     "output_type": "stream",
     "text": [
      "/home/raza.imam/.conda/envs/MMAttack/lib/python3.11/site-packages/torch/nn/parallel/_functions.py:68: UserWarning: Was asked to gather along dimension 0, but all input tensors were scalars; will instead unsqueeze and return a vector.\n",
      "  warnings.warn('Was asked to gather along dimension 0, but all '\n"
     ]
    },
    {
     "data": {
      "text/html": [
       "\n",
       "    <div>\n",
       "      \n",
       "      <progress value='15' max='15' style='width:300px; height:20px; vertical-align: middle;'></progress>\n",
       "      [15/15 00:01]\n",
       "    </div>\n",
       "    "
      ],
      "text/plain": [
       "<IPython.core.display.HTML object>"
      ]
     },
     "metadata": {},
     "output_type": "display_data"
    },
    {
     "name": "stdout",
     "output_type": "stream",
     "text": [
      "Model Size: 11171588, Training Time: 164.02s, Accuracy: 0.9154\n",
      "\n",
      "Processing model: google/bert_uncased_L-6_H-512_A-8\n"
     ]
    },
    {
     "name": "stderr",
     "output_type": "stream",
     "text": [
      "config.json: 100%|██████████| 383/383 [00:00<00:00, 533kB/s]\n",
      "vocab.txt: 100%|██████████| 232k/232k [00:00<00:00, 55.9MB/s]\n",
      "Map: 100%|██████████| 120000/120000 [00:10<00:00, 11690.19 examples/s]\n",
      "Map: 100%|██████████| 7600/7600 [00:00<00:00, 9212.30 examples/s] \n",
      "pytorch_model.bin: 100%|██████████| 141M/141M [00:00<00:00, 207MB/s] \n",
      "Some weights of BertForSequenceClassification were not initialized from the model checkpoint at google/bert_uncased_L-6_H-512_A-8 and are newly initialized: ['classifier.bias', 'classifier.weight']\n",
      "You should probably TRAIN this model on a down-stream task to be able to use it for predictions and inference.\n",
      "/home/raza.imam/.conda/envs/MMAttack/lib/python3.11/site-packages/torch/nn/parallel/_functions.py:68: UserWarning: Was asked to gather along dimension 0, but all input tensors were scalars; will instead unsqueeze and return a vector.\n",
      "  warnings.warn('Was asked to gather along dimension 0, but all '\n"
     ]
    },
    {
     "data": {
      "text/html": [
       "\n",
       "    <div>\n",
       "      \n",
       "      <progress value='938' max='938' style='width:300px; height:20px; vertical-align: middle;'></progress>\n",
       "      [938/938 04:29, Epoch 1/1]\n",
       "    </div>\n",
       "    <table border=\"1\" class=\"dataframe\">\n",
       "  <thead>\n",
       " <tr style=\"text-align: left;\">\n",
       "      <th>Epoch</th>\n",
       "      <th>Training Loss</th>\n",
       "      <th>Validation Loss</th>\n",
       "      <th>Accuracy</th>\n",
       "    </tr>\n",
       "  </thead>\n",
       "  <tbody>\n",
       "    <tr>\n",
       "      <td>1</td>\n",
       "      <td>No log</td>\n",
       "      <td>0.188685</td>\n",
       "      <td>0.935789</td>\n",
       "    </tr>\n",
       "  </tbody>\n",
       "</table><p>"
      ],
      "text/plain": [
       "<IPython.core.display.HTML object>"
      ]
     },
     "metadata": {},
     "output_type": "display_data"
    },
    {
     "name": "stderr",
     "output_type": "stream",
     "text": [
      "/home/raza.imam/.conda/envs/MMAttack/lib/python3.11/site-packages/torch/nn/parallel/_functions.py:68: UserWarning: Was asked to gather along dimension 0, but all input tensors were scalars; will instead unsqueeze and return a vector.\n",
      "  warnings.warn('Was asked to gather along dimension 0, but all '\n"
     ]
    },
    {
     "data": {
      "text/html": [
       "\n",
       "    <div>\n",
       "      \n",
       "      <progress value='15' max='15' style='width:300px; height:20px; vertical-align: middle;'></progress>\n",
       "      [15/15 00:02]\n",
       "    </div>\n",
       "    "
      ],
      "text/plain": [
       "<IPython.core.display.HTML object>"
      ]
     },
     "metadata": {},
     "output_type": "display_data"
    },
    {
     "name": "stdout",
     "output_type": "stream",
     "text": [
      "Model Size: 35070468, Training Time: 271.07s, Accuracy: 0.9358\n"
     ]
    }
   ],
   "source": [
    "results = []\n",
    "\n",
    "for model_name in model_names:\n",
    "    print(f\"\\nProcessing model: {model_name}\")\n",
    "    tokenizer = AutoTokenizer.from_pretrained(model_name)\n",
    "    \n",
    "\n",
    "    tokenized_datasets = dataset.map(\n",
    "        lambda x: preprocess_function(x, tokenizer), \n",
    "        batched=True\n",
    "    )\n",
    "    tokenized_datasets = tokenized_datasets.rename_column(\"label\", \"labels\")\n",
    "    tokenized_datasets.set_format(\n",
    "        'torch', \n",
    "        columns=['input_ids', 'attention_mask', 'labels']\n",
    "    )\n",
    "    \n",
    "\n",
    "    model = AutoModelForSequenceClassification.from_pretrained(model_name, num_labels=4).to('cuda')\n",
    "    \n",
    "\n",
    "    training_args = TrainingArguments(\n",
    "        output_dir='./results',\n",
    "        num_train_epochs=1,\n",
    "        per_device_train_batch_size=16,\n",
    "        per_device_eval_batch_size=64,\n",
    "        evaluation_strategy=\"epoch\",\n",
    "        save_strategy=\"no\",\n",
    "        logging_strategy=\"no\",\n",
    "        load_best_model_at_end=False,\n",
    "        seed=42,\n",
    "        report_to=None\n",
    "    )\n",
    "    \n",
    "\n",
    "    trainer = Trainer(\n",
    "        model=model,\n",
    "        args=training_args,\n",
    "        train_dataset=tokenized_datasets['train'],\n",
    "        eval_dataset=tokenized_datasets['test'],\n",
    "        compute_metrics=lambda p: {\n",
    "            'accuracy': metric.compute(\n",
    "                predictions=np.argmax(p.predictions, axis=1), \n",
    "                references=p.label_ids\n",
    "            )['accuracy']\n",
    "        }\n",
    "    )\n",
    "    \n",
    "    # Fine-tune the model\n",
    "    ############### YOUR CODE STARTS HERE ###############\n",
    "    # Train the model\n",
    "    # Record the time taken to train the model\n",
    "\n",
    "    start_time = time.time()\n",
    "    trainer.train()\n",
    "    training_time = time.time() - start_time\n",
    "    ############### YOUR CODE ENDS HERE #################\n",
    "    \n",
    "    # Evaluate the model\n",
    "    ############### YOUR CODE STARTS HERE ###############\n",
    "    # Use the trainer to evaluate the model\n",
    "    eval_result = trainer.evaluate()\n",
    "    ############### YOUR CODE ENDS HERE #################\n",
    "    accuracy = eval_result['eval_accuracy']\n",
    "    \n",
    "    # Get model size\n",
    "    ############### YOUR CODE STARTS HERE ###############\n",
    "    # Calculate the total number of parameters in the model\n",
    "    model_size = sum(p.numel() for p in model.parameters())\n",
    "    ############### YOUR CODE ENDS HERE #################\n",
    "    \n",
    "    results.append({\n",
    "        'model_name': model_name,\n",
    "        'model_size': model_size,\n",
    "        'training_time': training_time,\n",
    "        'accuracy': accuracy\n",
    "    })\n",
    "    \n",
    "    print(f\"Model Size: {model_size}, Training Time: {training_time:.2f}s, Accuracy: {accuracy:.4f}\")"
   ]
  },
  {
   "cell_type": "code",
   "execution_count": 6,
   "metadata": {},
   "outputs": [
    {
     "name": "stdout",
     "output_type": "stream",
     "text": [
      "\n",
      "Final Results:\n"
     ]
    },
    {
     "data": {
      "text/html": [
       "<div>\n",
       "<style scoped>\n",
       "    .dataframe tbody tr th:only-of-type {\n",
       "        vertical-align: middle;\n",
       "    }\n",
       "\n",
       "    .dataframe tbody tr th {\n",
       "        vertical-align: top;\n",
       "    }\n",
       "\n",
       "    .dataframe thead th {\n",
       "        text-align: right;\n",
       "    }\n",
       "</style>\n",
       "<table border=\"1\" class=\"dataframe\">\n",
       "  <thead>\n",
       "    <tr style=\"text-align: right;\">\n",
       "      <th></th>\n",
       "      <th>model_name</th>\n",
       "      <th>model_size</th>\n",
       "      <th>training_time</th>\n",
       "      <th>accuracy</th>\n",
       "      <th>model_size_millions</th>\n",
       "    </tr>\n",
       "  </thead>\n",
       "  <tbody>\n",
       "    <tr>\n",
       "      <th>0</th>\n",
       "      <td>google/bert_uncased_L-2_H-128_A-2</td>\n",
       "      <td>4386436</td>\n",
       "      <td>129.339777</td>\n",
       "      <td>0.897763</td>\n",
       "      <td>4.386436</td>\n",
       "    </tr>\n",
       "    <tr>\n",
       "      <th>1</th>\n",
       "      <td>google/bert_uncased_L-4_H-256_A-4</td>\n",
       "      <td>11171588</td>\n",
       "      <td>164.019613</td>\n",
       "      <td>0.915395</td>\n",
       "      <td>11.171588</td>\n",
       "    </tr>\n",
       "    <tr>\n",
       "      <th>2</th>\n",
       "      <td>google/bert_uncased_L-6_H-512_A-8</td>\n",
       "      <td>35070468</td>\n",
       "      <td>271.066700</td>\n",
       "      <td>0.935789</td>\n",
       "      <td>35.070468</td>\n",
       "    </tr>\n",
       "  </tbody>\n",
       "</table>\n",
       "</div>"
      ],
      "text/plain": [
       "                          model_name  model_size  training_time  accuracy  \\\n",
       "0  google/bert_uncased_L-2_H-128_A-2     4386436     129.339777  0.897763   \n",
       "1  google/bert_uncased_L-4_H-256_A-4    11171588     164.019613  0.915395   \n",
       "2  google/bert_uncased_L-6_H-512_A-8    35070468     271.066700  0.935789   \n",
       "\n",
       "   model_size_millions  \n",
       "0             4.386436  \n",
       "1            11.171588  \n",
       "2            35.070468  "
      ]
     },
     "metadata": {},
     "output_type": "display_data"
    }
   ],
   "source": [
    "df_results = pd.DataFrame(results)\n",
    "df_results['model_size_millions'] = df_results['model_size'] / 1e6\n",
    "\n",
    "print(\"\\nFinal Results:\")\n",
    "display(df_results)"
   ]
  },
  {
   "cell_type": "markdown",
   "metadata": {},
   "source": [
    "Plot the results for Model Size vs. Accuracy to compare the performance of the models."
   ]
  },
  {
   "cell_type": "code",
   "execution_count": 8,
   "metadata": {},
   "outputs": [
    {
     "data": {
      "image/png": "[encoded data removed]",
      "text/plain": [
       "<Figure size 1000x600 with 1 Axes>"
      ]
     },
     "metadata": {},
     "output_type": "display_data"
    }
   ],
   "source": [
    "############### YOUR CODE STARTS HERE ###############\n",
    "# Plot the model size vs. accuracy\n",
    "plt.show()\n",
    "############### YOUR CODE ENDS HERE #################\n",
    "############### YOUR CODE STARTS HERE ###############\n",
    "# Plot the model size vs. accuracy\n",
    "plt.figure(figsize=(10, 6))\n",
    "plt.plot(df_results['model_size_millions'], df_results['accuracy'], marker='o')\n",
    "plt.xlabel('Model Size (Millions of Parameters)')\n",
    "plt.ylabel('Accuracy')\n",
    "plt.title('Model Size vs. Accuracy')\n",
    "plt.grid(True)\n",
    "plt.show()\n",
    "############### YOUR CODE ENDS HERE #################"
   ]
  },
  {
   "cell_type": "markdown",
   "metadata": {},
   "source": [
    "Plot the results for Computation Time vs. Accuracy to compare the computation cost of the models."
   ]
  },
  {
   "cell_type": "code",
   "execution_count": 10,
   "metadata": {},
   "outputs": [
    {
     "data": {
      "image/png": "[encoded data removed]",
      "text/plain": [
       "<Figure size 1000x600 with 1 Axes>"
      ]
     },
     "metadata": {},
     "output_type": "display_data"
    }
   ],
   "source": [
    "############### YOUR CODE STARTS HERE ###############\n",
    "# Plot the model size vs. accuracy\n",
    "plt.show()\n",
    "############### YOUR CODE ENDS HERE #################\n",
    "############### YOUR CODE STARTS HERE ###############\n",
    "# Plot the computation time vs. accuracy\n",
    "plt.figure(figsize=(10, 6))\n",
    "plt.plot(df_results['training_time'], df_results['accuracy'], marker='o')\n",
    "plt.xlabel('Computation Time (seconds)')\n",
    "plt.ylabel('Accuracy')\n",
    "plt.title('Training Time vs. Accuracy')\n",
    "plt.grid(True)\n",
    "plt.show()\n",
    "############### YOUR CODE ENDS HERE #################"
   ]
  }
 ],
 "metadata": {
  "kernelspec": {
   "display_name": "cv802",
   "language": "python",
   "name": "python3"
  },
  "language_info": {
   "codemirror_mode": {
    "name": "ipython",
    "version": 3
   },
   "file_extension": ".py",
   "mimetype": "text/x-python",
   "name": "python",
   "nbconvert_exporter": "python",
   "pygments_lexer": "ipython3",
   "version": "3.11.4"
  }
 },
 "nbformat": 4,
 "nbformat_minor": 2
}
